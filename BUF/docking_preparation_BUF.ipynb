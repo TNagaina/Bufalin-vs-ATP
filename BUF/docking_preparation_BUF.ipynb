{
 "cells": [
  {
   "cell_type": "code",
   "execution_count": 36,
   "metadata": {},
   "outputs": [
    {
     "name": "stdout",
     "output_type": "stream",
     "text": [
      "C:\\Users\\carlo\\anaconda3\\python.exe\n",
      "3.12.3 | packaged by conda-forge | (main, Apr 15 2024, 18:20:11) [MSC v.1938 64 bit (AMD64)]\n"
     ]
    }
   ],
   "source": [
    "import sys\n",
    "print(sys.executable)\n",
    "print(sys. version)"
   ]
  },
  {
   "cell_type": "code",
   "execution_count": 5,
   "metadata": {},
   "outputs": [
    {
     "name": "stderr",
     "output_type": "stream",
     "text": [
      "C:\\Users\\carlo\\AppData\\Local\\Temp\\ipykernel_13000\\1820887722.py:1: DeprecationWarning: Please migrate to the use of our new and improved package, rcsb-api (https://rcsbapi.readthedocs.io/en/latest/),\n",
      "    which contains all the same functionalities as rcsbsearchapi and more! New features will only be added to the new rcsb-api package.\n",
      "    For more details, see https://github.com/rcsb/py-rcsbsearchapi/issues/51.\n",
      "  from rcsbsearchapi.search import TextQuery\n"
     ]
    }
   ],
   "source": [
    "from rcsbsearchapi.search import TextQuery\n",
    "from rcsbsearchapi import rcsb_attributes as attrs"
   ]
  },
  {
   "cell_type": "code",
   "execution_count": 6,
   "metadata": {},
   "outputs": [
    {
     "name": "stdout",
     "output_type": "stream",
     "text": [
      "['4RES', '7D94', '7DDL']\n"
     ]
    }
   ],
   "source": [
    "ECnumber = \"7.2.2.13\"    \n",
    "\n",
    "q1 = attrs.rcsb_polymer_entity.rcsb_ec_lineage.id == ECnumber  # looking for Na/Kaptase\n",
    "q3 = TextQuery('BUF') \n",
    "query = q1 & q3              \n",
    "\n",
    "results = list(query())\n",
    "print(results)"
   ]
  },
  {
   "cell_type": "code",
   "execution_count": 8,
   "metadata": {},
   "outputs": [
    {
     "name": "stdout",
     "output_type": "stream",
     "text": [
      "7ddl\n"
     ]
    }
   ],
   "source": [
    "pdb_id = results[2].lower() ## Get the PDB ID from the list and convert it to lowercase\n",
    "print(pdb_id)"
   ]
  },
  {
   "cell_type": "code",
   "execution_count": 11,
   "metadata": {},
   "outputs": [
    {
     "data": {
      "text/plain": [
       "200"
      ]
     },
     "execution_count": 11,
     "metadata": {},
     "output_type": "execute_result"
    }
   ],
   "source": [
    "import os # for making directories\n",
    "import requests\n",
    "\n",
    "# make a directory for pdb files\n",
    "protein_directory = \"protein_structures\"\n",
    "\n",
    "## fill in function to make directories\n",
    "os.makedirs(protein_directory, exist_ok=True)\n",
    "\n",
    "pdb_request = requests.get(f\"https://files.rcsb.org/download/7ddl.pdb\")\n",
    "pdb_request.status_code"
   ]
  },
  {
   "cell_type": "code",
   "execution_count": 13,
   "metadata": {},
   "outputs": [],
   "source": [
    "with open(f\"{protein_directory}/{pdb_id}.pdb\", \"w+\") as f:\n",
    "    ## fill in write command\n",
    "    f.write(pdb_request.text)"
   ]
  },
  {
   "cell_type": "markdown",
   "metadata": {},
   "source": [
    "## Visualizing the protein strucure"
   ]
  },
  {
   "cell_type": "code",
   "execution_count": 16,
   "metadata": {},
   "outputs": [
    {
     "name": "stderr",
     "output_type": "stream",
     "text": [
      "WARNING:MDAnalysis.coordinates.AMBER:netCDF4 is not available. Writing AMBER ncdf files will be slow.\n"
     ]
    },
    {
     "data": {
      "text/plain": [
       "<Universe with 21312 atoms>"
      ]
     },
     "execution_count": 16,
     "metadata": {},
     "output_type": "execute_result"
    }
   ],
   "source": [
    "import MDAnalysis as mda\n",
    "\n",
    "# Load into MDA universe\n",
    "u = mda.Universe(f'{protein_directory}/{pdb_id}.pdb')\n",
    "u"
   ]
  },
  {
   "cell_type": "code",
   "execution_count": 17,
   "metadata": {},
   "outputs": [
    {
     "data": {
      "application/vnd.jupyter.widget-view+json": {
       "model_id": "28eb49700ec142ab90cecf917a412669",
       "version_major": 2,
       "version_minor": 0
      },
      "text/plain": []
     },
     "metadata": {},
     "output_type": "display_data"
    },
    {
     "data": {
      "application/vnd.jupyter.widget-view+json": {
       "model_id": "5ed461527dbf4f5facb650bff1c8735e",
       "version_major": 2,
       "version_minor": 0
      },
      "text/plain": [
       "NGLWidget()"
      ]
     },
     "metadata": {},
     "output_type": "display_data"
    }
   ],
   "source": [
    "import nglview as nv\n",
    "view=nv.show_mdanalysis(u)\n",
    "view\n",
    "## create and show an NGLView from an MDAnalysis universe"
   ]
  },
  {
   "cell_type": "code",
   "execution_count": 18,
   "metadata": {},
   "outputs": [
    {
     "name": "stdout",
     "output_type": "stream",
     "text": [
      "ligandB: 56\n",
      "water: 10\n"
     ]
    }
   ],
   "source": [
    "# Select protein atoms\n",
    "protein = u.select_atoms(\"protein\")\n",
    "ligandB = u.select_atoms(\"resname BUF\")\n",
    "water = u.select_atoms('resname HOH')## fill in selection for water.\n",
    "print(\"ligandB:\", len(ligandB))\n",
    "print(\"water:\", len(water))"
   ]
  },
  {
   "cell_type": "code",
   "execution_count": 19,
   "metadata": {
    "scrolled": true
   },
   "outputs": [
    {
     "data": {
      "application/vnd.jupyter.widget-view+json": {
       "model_id": "79044c3cd7f54ffa9a6b10527558d37b",
       "version_major": 2,
       "version_minor": 0
      },
      "text/plain": [
       "NGLWidget()"
      ]
     },
     "metadata": {},
     "output_type": "display_data"
    }
   ],
   "source": [
    "view = nv.show_mdanalysis(protein)\n",
    "view.clear_representations()\n",
    "view.add_representation('cartoon', ColorScheme='resname')\n",
    "lig_viewB = view.add_component(ligandB)\n",
    "lig_viewB.add_representation(\"ball+stick\")\n",
    "water_view = view.add_component(water)\n",
    "water_view.add_representation(\"spacefill\")\n",
    "view"
   ]
  },
  {
   "cell_type": "code",
   "execution_count": 24,
   "metadata": {},
   "outputs": [],
   "source": [
    "# Write protein to new PDB file\n",
    "protein.write(f\"{protein_directory}/protein_{pdb_id}.pdb\")"
   ]
  },
  {
   "cell_type": "markdown",
   "metadata": {},
   "source": [
    "## Fixing the protein structure"
   ]
  },
  {
   "cell_type": "code",
   "execution_count": 27,
   "metadata": {},
   "outputs": [
    {
     "name": "stderr",
     "output_type": "stream",
     "text": [
      "INFO:PDB2PQR v3.6.1: biomolecular structure conversion software.\n",
      "INFO:Please cite:  Jurrus E, et al.  Improvements to the APBS biomolecular solvation software suite.  Protein Sci 27 112-128 (2018).\n",
      "INFO:Please cite:  Dolinsky TJ, et al.  PDB2PQR: expanding and upgrading automated preparation of biomolecular structures for molecular simulations. Nucleic Acids Res 35 W522-W525 (2007).\n",
      "INFO:Checking and transforming input arguments.\n",
      "INFO:Loading topology files.\n",
      "INFO:Loading molecule: protein_structures/protein_7ddl.pdb\n",
      "ERROR:Error parsing line: invalid literal for int() with base 10: ''\n",
      "ERROR:<REMARK     2>\n",
      "ERROR:Truncating remaining errors for record type:REMARK\n",
      "WARNING:Warning: protein_structures\\protein_7ddl.pdb is a non-standard PDB file.\n",
      "\n",
      "ERROR:['REMARK']\n",
      "INFO:Setting up molecule.\n",
      "INFO:Created biomolecule object with 2630 residues and 20666 atoms.\n",
      "INFO:Setting termini states for biomolecule chains.\n",
      "WARNING:Gap in backbone detected between SER A 368 and LYS A 370!\n",
      "WARNING:Gap in backbone detected between SER C 368 and LYS C 370!\n",
      "WARNING:Gap in backbone detected between GLY D 161 and GLY D 168!\n",
      "INFO:Loading forcefield.\n",
      "INFO:Loading hydrogen topology definitions.\n",
      "WARNING:Missing atom OXT in residue LYS E 48\n",
      "WARNING:Missing atom OXT in residue LYS G 48\n",
      "WARNING:Missing atom OXT in residue LYS E 48\n",
      "WARNING:Missing atom OXT in residue LYS G 48\n",
      "INFO:Attempting to repair 2 missing atoms in biomolecule.\n",
      "WARNING:Missing atom OXT in residue LYS E 48\n",
      "WARNING:Missing atom OXT in residue LYS G 48\n",
      "INFO:Added atom OXT to residue LYS E 48 at coordinates 38.610, -2.444, 44.149\n",
      "INFO:Added atom OXT to residue LYS G 48 at coordinates 37.057, -3.142, 78.453\n",
      "INFO:Updating disulfide bridges.\n",
      "INFO:Debumping biomolecule.\n",
      "INFO:Adding hydrogens to biomolecule.\n",
      "INFO:Debumping biomolecule (again).\n",
      "INFO:Optimizing hydrogen bonds\n",
      "INFO:Applying force field to biomolecule states.\n",
      "INFO:Regenerating headers.\n",
      "INFO:Regenerating PDB lines.\n",
      "WARNING:Ignoring 392 header lines in output.\n",
      "WARNING:Ignoring 392 header lines in output.\n"
     ]
    }
   ],
   "source": [
    "!python -m pdb2pqr --pdb-output=protein_structures/protein_7ddl.pdb --pH=7.4 protein_structures/protein_7ddl.pdb protein_structures/protein_7ddl.pqr --whitespace"
   ]
  },
  {
   "cell_type": "markdown",
   "metadata": {},
   "source": [
    "## Saving a protein PDBQT File"
   ]
  },
  {
   "cell_type": "code",
   "execution_count": 29,
   "metadata": {},
   "outputs": [
    {
     "name": "stderr",
     "output_type": "stream",
     "text": [
      "C:\\Users\\carlo\\anaconda3\\Lib\\site-packages\\MDAnalysis\\coordinates\\PDBQT.py:305: UserWarning: Supplied AtomGroup was missing the following attributes: altLocs, occupancies, tempfactors. These will be written with default values. \n",
      "  warnings.warn(\n"
     ]
    }
   ],
   "source": [
    "# make a directory for pdb files\n",
    "pdbqt_directory = 'pdbqt'## fill in the name of the directory to write PDBQT files to\n",
    "os.makedirs(pdbqt_directory, exist_ok=True)\n",
    "\n",
    "u = mda.Universe(f\"{protein_directory}/protein_{pdb_id}.pqr\")\n",
    "u.atoms.write(f\"{pdbqt_directory}/{pdb_id}.pdbqt\")"
   ]
  },
  {
   "cell_type": "code",
   "execution_count": 30,
   "metadata": {},
   "outputs": [],
   "source": [
    "# Read in the just-written PDBQT file, replace text, and write back\n",
    "with open(f\"{pdbqt_directory}/{pdb_id}.pdbqt\", 'r') as file:\n",
    "    file_content = file.read()\n",
    "\n",
    "# Replace 'TITLE' and 'CRYST1' with 'REMARK'\n",
    "file_content = file_content.replace('TITLE', 'REMARK').replace('CRYST1', 'REMARK')\n",
    "\n",
    "# Write the modified content back to the file\n",
    "with open(f\"{pdbqt_directory}/{pdb_id}.pdbqt\", 'w') as file:\n",
    "    file.write(file_content)"
   ]
  },
  {
   "cell_type": "code",
   "execution_count": 38,
   "metadata": {},
   "outputs": [
    {
     "name": "stdout",
     "output_type": "stream",
     "text": [
      "C:\\Users\\carlo\\anaconda3\\Scripts\\mk_prepare_ligand.py\n"
     ]
    },
    {
     "name": "stderr",
     "output_type": "stream",
     "text": [
      "INFORMACIÃ“N: no se pudo encontrar\"#\".\n",
      "INFORMACIÃ“N: no se pudo encontrar\"Windows\".\n"
     ]
    }
   ],
   "source": [
    "!where mk_prepare_ligand.py  # Windows"
   ]
  },
  {
   "cell_type": "code",
   "execution_count": 46,
   "metadata": {},
   "outputs": [
    {
     "name": "stderr",
     "output_type": "stream",
     "text": [
      "Traceback (most recent call last):\n",
      "  File \"C:\\Users\\carlo\\anaconda3\\Scripts\\mk_prepare_ligand.py\", line 14, in <module>\n",
      "    from meeko import MoleculePreparation\n",
      "  File \"C:\\Users\\carlo\\anaconda3\\Lib\\site-packages\\meeko\\__init__.py\", line 32, in <module>\n",
      "    from .rdkit_mol_create import RDKitMolCreate\n",
      "  File \"C:\\Users\\carlo\\anaconda3\\Lib\\site-packages\\meeko\\rdkit_mol_create.py\", line 11, in <module>\n",
      "    from rdkit.six import StringIO\n",
      "ModuleNotFoundError: No module named 'rdkit.six'\n"
     ]
    }
   ],
   "source": [
    "!python C:/Users/carlo/anaconda3/Scripts/mk_prepare_ligand.py -i ligands/resBUF.sdf -o pdbqt/BUF.pdbqt"
   ]
  },
  {
   "cell_type": "code",
   "execution_count": 48,
   "metadata": {},
   "outputs": [
    {
     "name": "stdout",
     "output_type": "stream",
     "text": [
      "Traceback (most recent call last):\n",
      "  File \"C:\\Users\\carlo\\anaconda3\\Scripts\\mk_prepare_ligand.py\", line 14, in <module>\n",
      "    from meeko import MoleculePreparation\n",
      "  File \"C:\\Users\\carlo\\anaconda3\\Lib\\site-packages\\meeko\\__init__.py\", line 32, in <module>\n",
      "    from .rdkit_mol_create import RDKitMolCreate\n",
      "  File \"C:\\Users\\carlo\\anaconda3\\Lib\\site-packages\\meeko\\rdkit_mol_create.py\", line 11, in <module>\n",
      "    from rdkit.six import StringIO\n",
      "ModuleNotFoundError: No module named 'rdkit.six'\n"
     ]
    }
   ],
   "source": [
    "!python C:/Users/carlo/anaconda3/Scripts/mk_prepare_ligand.py -i ligands/resBUF.sdf -o pdbqt/BUF.pdbqt > out.txt 2>&1\n",
    "!type out.txt\n"
   ]
  },
  {
   "cell_type": "code",
   "execution_count": 1,
   "metadata": {},
   "outputs": [],
   "source": [
    "# Use meeko to prepare small molecules - using meeko helps us visualize them later.\n",
    "! mk_prepare_ligand.py -i ligands/resBUF.sdf -o pdbqt/BUF.pdbqt\n",
    "# Fill in the command for converting the N modified ligand."
   ]
  },
  {
   "cell_type": "code",
   "execution_count": null,
   "metadata": {},
   "outputs": [],
   "source": []
  }
 ],
 "metadata": {
  "kernelspec": {
   "display_name": "Python [conda env:base] *",
   "language": "python",
   "name": "conda-base-py"
  },
  "language_info": {
   "codemirror_mode": {
    "name": "ipython",
    "version": 3
   },
   "file_extension": ".py",
   "mimetype": "text/x-python",
   "name": "python",
   "nbconvert_exporter": "python",
   "pygments_lexer": "ipython3",
   "version": "3.12.3"
  }
 },
 "nbformat": 4,
 "nbformat_minor": 4
}
