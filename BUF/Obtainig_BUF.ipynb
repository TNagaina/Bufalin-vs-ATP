{
 "cells": [
  {
   "cell_type": "code",
   "execution_count": null,
   "id": "bbd9f287-04f5-4628-b543-42a2d5bf83ab",
   "metadata": {},
   "outputs": [],
   "source": [
    "# This is a condensated version from the pdb training course Python Scripting for Molecular Docking | Part 3.\n",
    "# I have taken the necessary code as to obtain the ligands for the Na/Kaptase (7.2.2.13) I want to study (A"
   ]
  },
  {
   "cell_type": "code",
   "execution_count": 13,
   "id": "6af895d5-3f85-40d6-a41d-d514b328833d",
   "metadata": {},
   "outputs": [
    {
     "name": "stdout",
     "output_type": "stream",
     "text": [
      "C:\\Users\\carlo\\anaconda3\\python.exe\n"
     ]
    }
   ],
   "source": [
    "import sys\n",
    "print(sys.executable)"
   ]
  },
  {
   "cell_type": "code",
   "execution_count": 15,
   "id": "7f7f7135",
   "metadata": {},
   "outputs": [],
   "source": [
    "# Import the components of rcsbsearchapi needed for this search\n",
    "from rcsbsearchapi import rcsb_attributes as attrs"
   ]
  },
  {
   "cell_type": "code",
   "execution_count": 17,
   "id": "e331ecd9",
   "metadata": {},
   "outputs": [
    {
     "name": "stdout",
     "output_type": "stream",
     "text": [
      "['1MO8', '3B8E', '3KDP', '3N23', '3WGU', '3WGV', '4HQJ', '4HYT', '4RES', '4RET']\n",
      "There are 38 NaKapts structures that contain ligands in the RCSB PDB.\n"
     ]
    }
   ],
   "source": [
    "# There will be three components to the query, which will be labeled q1, q2 and q3.\n",
    "\n",
    "ECnumber = '7.2.2.13'     # We will use this variable again later\n",
    "\n",
    "q1 = attrs.rcsb_polymer_entity.rcsb_ec_lineage.id == ECnumber    # looking for trypsin structures with EC = 3.4.21.4\n",
    "q2 = attrs.chem_comp.formula_weight >= 300                       # setting the lower limit for molecular weight\n",
    "q3 = attrs.chem_comp.formula_weight <= 800                       # setting the upper limit for molecular weight\n",
    "\n",
    "query = q1 & q2 & q3              # combining the three queries into one\n",
    "\n",
    "resultL = list(query())           # assign the results of the query to a list variable\n",
    "\n",
    "print(resultL[0:10])              # list the first 10 results\n",
    "\n",
    "print(\"There are\", len(resultL), \"NaKapts structures that contain ligands in the RCSB PDB.\")"
   ]
  },
  {
   "cell_type": "code",
   "execution_count": 18,
   "id": "b4d77b9e",
   "metadata": {},
   "outputs": [
    {
     "name": "stdout",
     "output_type": "stream",
     "text": [
      "There are 22 ligands for EC Number 7.2.2.13 in this list. Here is a list of the first 10 ligands.\n"
     ]
    },
    {
     "data": {
      "text/plain": [
       "['17F', '1AT', '1DS', '7Q2', 'ACP', 'ADP', 'AGS', 'ATP', 'BUF', 'CE1']"
      ]
     },
     "execution_count": 18,
     "metadata": {},
     "output_type": "execute_result"
    }
   ],
   "source": [
    "molResultL = list(query(\"mol_definition\"))\n",
    "print(\"There are\",len(molResultL), \"ligands for EC Number\", ECnumber, \"in this list. Here is a list of the first 10 ligands.\")\n",
    "molResultL[0:10]"
   ]
  },
  {
   "cell_type": "code",
   "execution_count": 21,
   "id": "ffb3d082",
   "metadata": {},
   "outputs": [],
   "source": [
    "import requests  # to enable us to pull files from the PDB\n"
   ]
  },
  {
   "cell_type": "code",
   "execution_count": 23,
   "id": "9cbf3513",
   "metadata": {},
   "outputs": [],
   "source": [
    "# Download one of the files from our list: 11U.mol2\n",
    "resBUF_sdf = requests.get('https://files.rcsb.org/ligands/download/BUF_ideal.sdf')"
   ]
  },
  {
   "cell_type": "code",
   "execution_count": 25,
   "id": "b7043e37",
   "metadata": {},
   "outputs": [
    {
     "data": {
      "text/plain": [
       "<Response [200]>"
      ]
     },
     "execution_count": 25,
     "metadata": {},
     "output_type": "execute_result"
    }
   ],
   "source": [
    "# check to see that the file downloaded properly. A status code of 200 means everything is okay.\n",
    "resBUF_sdf"
   ]
  },
  {
   "cell_type": "code",
   "execution_count": 27,
   "id": "096a56da",
   "metadata": {},
   "outputs": [],
   "source": [
    "# To really be sure, let's look at the file one line at a time. First we write the downloaded content to a file.\n",
    "import os\n",
    "\n",
    "os.makedirs(('ligands'), exist_ok=True)\n",
    "\n",
    "with open(\"ligands/resBUF.sdf\", \"w+\") as file:\n",
    "    file.write(resBUF_sdf.text)"
   ]
  },
  {
   "cell_type": "code",
   "execution_count": 29,
   "id": "c9d9c2e4",
   "metadata": {},
   "outputs": [
    {
     "name": "stdout",
     "output_type": "stream",
     "text": [
      "BUF\n",
      "  CCTOOLS-0919241035\n",
      "\n",
      " 62 66  0  0  1  0  0  0  0  0999 V2000\n",
      "    1.6790   -1.1370   -1.3340 C   0  0  0  0  0\n",
      "    1.0410   -0.8830    0.0330 C   0  0  0  0  0\n",
      "    0.0220   -1.9670    0.3900 C   0  0  0  0  0\n",
      "   -1.2380   -1.8260   -0.4590 C   0  0  0  0  0\n",
      "   -1.8870   -0.4720   -0.1520 C   0  0  0  0  0\n",
      "   -3.1930   -0.3350   -0.9370 C   0  0  0  0  0\n",
      "   -2.9010   -0.4550   -2.4340 C   0  0  0  0  0\n",
      "   -4.1610   -1.4420   -0.5170 C   0  0  0  0  0\n",
      "   -4.4630   -1.3170    0.9780 C   0  0  0  0  0\n",
      "   -5.0940    0.0480    1.2590 C   0  0  0  0  0\n",
      "   -6.3080    0.1740    0.5150 O   0  0  0  0  0\n",
      "   -4.1220    1.1530    0.8420 C   0  0  0  0  0\n",
      "   -3.8230    1.0290   -0.6500 C   0  0  0  0  0\n",
      "   -2.8540    2.1340   -1.0720 C   0  0  0  0  0\n",
      "   -1.5490    1.9970   -0.2840 C   0  0  0  0  0\n",
      "   -0.9190    0.6340   -0.5710 C   0  0  0  0  0\n",
      "    0.4250    0.5240    0.1210 C   0  0  0  0  0\n",
      "    1.3220    1.4860   -0.4390 O   0  0  0  0  0\n",
      "    0.3290    0.7510    1.6410 C   0  0  0  0  0\n",
      "    1.6540    0.1610    2.1780 C   0  0  0  0  0\n",
      "    2.0980   -0.8740    1.1700 C   0  0  0  0  0\n",
      "    3.4430   -0.4710    0.6230 C   0  0  0  0  0\n",
      "    4.3060   -1.4440    0.0900 C   0  0  0  0  0\n",
      "    5.5180   -1.0560   -0.4000 C   0  0  0  0  0\n",
      "    5.8680    0.3060   -0.3560 C   0  0  0  0  0\n",
      "    6.9480    0.6720   -0.7900 O   0  0  0  0  0\n",
      "    5.0130    1.2030    0.1620 O   0  0  0  0  0\n",
      "    3.8190    0.8250    0.6380 C   0  0  0  0  0\n",
      "    2.1590   -2.1150   -1.3350 H   0  0  0  0  0\n",
      "    0.9090   -1.1100   -2.1050 H   0  0  0  0  0\n",
      "    2.4230   -0.3660   -1.5370 H   0  0  0  0  0\n",
      "    0.4640   -2.9480    0.2150 H   0  0  0  0  0\n",
      "   -0.2440   -1.8770    1.4440 H   0  0  0  0  0\n",
      "   -0.9750   -1.8740   -1.5160 H   0  0  0  0  0\n",
      "   -1.9340   -2.6310   -0.2190 H   0  0  0  0  0\n",
      "   -2.0820   -0.4030    0.9190 H   0  0  0  0  0\n",
      "   -2.4530   -1.4270   -2.6400 H   0  0  0  0  0\n",
      "   -3.8300   -0.3570   -2.9950 H   0  0  0  0  0\n",
      "   -2.2110    0.3340   -2.7340 H   0  0  0  0  0\n",
      "   -5.0880   -1.3480   -1.0840 H   0  0  0  0  0\n",
      "   -3.7100   -2.4140   -0.7170 H   0  0  0  0  0\n",
      "   -5.1540   -2.1060    1.2760 H   0  0  0  0  0\n",
      "   -3.5360   -1.4130    1.5440 H   0  0  0  0  0\n",
      "   -5.3100    0.1360    2.3240 H   0  0  0  0  0\n",
      "   -6.9710   -0.4970    0.7280 H   0  0  0  0  0\n",
      "   -4.5710    2.1260    1.0430 H   0  0  0  0  0\n",
      "   -3.1960    1.0560    1.4080 H   0  0  0  0  0\n",
      "   -4.7500    1.1240   -1.2150 H   0  0  0  0  0\n",
      "   -2.6450    2.0470   -2.1380 H   0  0  0  0  0\n",
      "   -3.3010    3.1070   -0.8670 H   0  0  0  0  0\n",
      "   -0.8580    2.7850   -0.5860 H   0  0  0  0  0\n",
      "   -1.7570    2.0860    0.7820 H   0  0  0  0  0\n",
      "   -0.7330    0.5450   -1.6420 H   0  0  0  0  0\n",
      "    1.0190    2.4010   -0.3570 H   0  0  0  0  0\n",
      "    0.2640    1.8150    1.8680 H   0  0  0  0  0\n",
      "   -0.5250    0.2150    2.0560 H   0  0  0  0  0\n",
      "    2.3920    0.9530    2.3040 H   0  0  0  0  0\n",
      "    1.4810   -0.3430    3.1280 H   0  0  0  0  0\n",
      "    2.1610   -1.8590    1.6310 H   0  0  0  0  0\n",
      "    4.0130   -2.4840    0.0690 H   0  0  0  0  0\n",
      "    6.2000   -1.7840   -0.8140 H   0  0  0  0  0\n",
      "    3.1490    1.5680    1.0450 H   0  0  0  0  0\n",
      "  1 29  1  0  0  0\n",
      "  1 30  1  0  0  0\n",
      "  1 31  1  0  0  0\n",
      "  2  1  1  0  0  0\n",
      "  2 21  1  0  0  0\n",
      "  3  2  1  0  0  0\n",
      "  3 32  1  0  0  0\n",
      "  3 33  1  0  0  0\n",
      "  4  3  1  0  0  0\n",
      "  4 34  1  0  0  0\n",
      "  4 35  1  0  0  0\n",
      "  5 16  1  0  0  0\n",
      "  5  4  1  0  0  0\n",
      "  5 36  1  0  0  0\n",
      "  6  5  1  0  0  0\n",
      "  7  6  1  0  0  0\n",
      "  7 37  1  0  0  0\n",
      "  7 38  1  0  0  0\n",
      "  7 39  1  0  0  0\n",
      "  8  6  1  0  0  0\n",
      "  8  9  1  0  0  0\n",
      "  8 40  1  0  0  0\n",
      "  8 41  1  0  0  0\n",
      "  9 42  1  0  0  0\n",
      "  9 43  1  0  0  0\n",
      " 10  9  1  0  0  0\n",
      " 10 44  1  0  0  0\n",
      " 11 10  1  0  0  0\n",
      " 11 45  1  0  0  0\n",
      " 12 10  1  0  0  0\n",
      " 12 13  1  0  0  0\n",
      " 12 46  1  0  0  0\n",
      " 12 47  1  0  0  0\n",
      " 13 14  1  0  0  0\n",
      " 13  6  1  0  0  0\n",
      " 13 48  1  0  0  0\n",
      " 14 15  1  0  0  0\n",
      " 14 49  1  0  0  0\n",
      " 14 50  1  0  0  0\n",
      " 15 16  1  0  0  0\n",
      " 15 51  1  0  0  0\n",
      " 15 52  1  0  0  0\n",
      " 16 17  1  0  0  0\n",
      " 16 53  1  0  0  0\n",
      " 17 18  1  0  0  0\n",
      " 17 19  1  0  0  0\n",
      " 17  2  1  0  0  0\n",
      " 18 54  1  0  0  0\n",
      " 19 20  1  0  0  0\n",
      " 19 55  1  0  0  0\n",
      " 19 56  1  0  0  0\n",
      " 20 21  1  0  0  0\n",
      " 20 57  1  0  0  0\n",
      " 20 58  1  0  0  0\n",
      " 21 22  1  0  0  0\n",
      " 21 59  1  0  0  0\n",
      " 22 28  2  0  0  0\n",
      " 23 22  1  0  0  0\n",
      " 23 24  2  0  0  0\n",
      " 23 60  1  0  0  0\n",
      " 24 25  1  0  0  0\n",
      " 24 61  1  0  0  0\n",
      " 25 27  1  0  0  0\n",
      " 25 26  2  0  0  0\n",
      " 28 27  1  0  0  0\n",
      " 28 62  1  0  0  0\n",
      "M  END\n",
      "$$$$\n",
      "\n"
     ]
    }
   ],
   "source": [
    "# Now we use these commands to read the file and make sure it downloaded properly. As an alternative, we\n",
    "# could go to the ligands folder in our Jupyter desktop and click on res11U.mol2 to make sure it looks correct.\n",
    "\n",
    "filal = open('ligands/resBUF.sdf', 'r')\n",
    "filal_text = filal.read() \n",
    "\n",
    "print(filal_text)"
   ]
  },
  {
   "cell_type": "code",
   "execution_count": null,
   "id": "d94c9067",
   "metadata": {},
   "outputs": [],
   "source": []
  }
 ],
 "metadata": {
  "kernelspec": {
   "display_name": "Python [conda env:base] *",
   "language": "python",
   "name": "conda-base-py"
  },
  "language_info": {
   "codemirror_mode": {
    "name": "ipython",
    "version": 3
   },
   "file_extension": ".py",
   "mimetype": "text/x-python",
   "name": "python",
   "nbconvert_exporter": "python",
   "pygments_lexer": "ipython3",
   "version": "3.12.3"
  }
 },
 "nbformat": 4,
 "nbformat_minor": 5
}
