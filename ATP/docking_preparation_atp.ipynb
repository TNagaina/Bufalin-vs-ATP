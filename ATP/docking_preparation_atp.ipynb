{
 "cells": [
  {
   "cell_type": "code",
   "execution_count": 15,
   "metadata": {},
   "outputs": [
    {
     "name": "stdout",
     "output_type": "stream",
     "text": [
      "C:\\Users\\carlo\\anaconda3\\envs\\vina-env\\python.exe\n"
     ]
    }
   ],
   "source": [
    "import sys\n",
    "print(sys.executable)"
   ]
  },
  {
   "cell_type": "code",
   "execution_count": 19,
   "metadata": {},
   "outputs": [
    {
     "name": "stderr",
     "output_type": "stream",
     "text": [
      "C:\\Users\\carlo\\AppData\\Local\\Temp\\ipykernel_21560\\1820887722.py:1: DeprecationWarning: Please migrate to the use of our new and improved package, rcsb-api (https://rcsbapi.readthedocs.io/en/latest/),\n",
      "    which contains all the same functionalities as rcsbsearchapi and more! New features will only be added to the new rcsb-api package.\n",
      "    For more details, see https://github.com/rcsb/py-rcsbsearchapi/issues/51.\n",
      "  from rcsbsearchapi.search import TextQuery\n"
     ]
    }
   ],
   "source": [
    "from rcsbsearchapi.search import TextQuery\n",
    "from rcsbsearchapi import rcsb_attributes as attrs"
   ]
  },
  {
   "cell_type": "code",
   "execution_count": 21,
   "metadata": {},
   "outputs": [
    {
     "name": "stdout",
     "output_type": "stream",
     "text": [
      "['8IJL', '3WGU', '3WGV', '4HQJ', '8D3U', '1MO8', '1MO7', '7E21']\n"
     ]
    }
   ],
   "source": [
    "ECnumber = \"7.2.2.13\"    \n",
    "\n",
    "q1 = attrs.rcsb_polymer_entity.rcsb_ec_lineage.id == ECnumber  # looking for Na/Kaptase\n",
    "q2 = TextQuery('ADP')\n",
    "query = q1 & q2              \n",
    "\n",
    "results = list(query())\n",
    "print(results)"
   ]
  },
  {
   "cell_type": "code",
   "execution_count": 22,
   "metadata": {},
   "outputs": [
    {
     "name": "stdout",
     "output_type": "stream",
     "text": [
      "4hqj\n"
     ]
    }
   ],
   "source": [
    "pdb_id = results[3].lower() ## Get the PDB ID from the list and convert it to lowercase\n",
    "print(pdb_id)"
   ]
  },
  {
   "cell_type": "code",
   "execution_count": 11,
   "metadata": {},
   "outputs": [
    {
     "data": {
      "text/plain": [
       "200"
      ]
     },
     "execution_count": 11,
     "metadata": {},
     "output_type": "execute_result"
    }
   ],
   "source": [
    "import os # for making directories\n",
    "import requests\n",
    "\n",
    "# make a directory for pdb files\n",
    "protein_directory = \"protein_structures\"\n",
    "\n",
    "## fill in function to make directories\n",
    "os.makedirs(protein_directory, exist_ok=True)\n",
    "\n",
    "pdb_request = requests.get(f\"https://files.rcsb.org/download/4hqj.pdb\")\n",
    "pdb_request.status_code"
   ]
  },
  {
   "cell_type": "code",
   "execution_count": 25,
   "metadata": {},
   "outputs": [],
   "source": [
    "with open(f\"{protein_directory}/{pdb_id}.pdb\", \"w+\") as f:\n",
    "    ## fill in write command\n",
    "    f.write(pdb_request.text)"
   ]
  },
  {
   "cell_type": "markdown",
   "metadata": {},
   "source": [
    "## Visualizing the protein strucure"
   ]
  },
  {
   "cell_type": "code",
   "execution_count": 27,
   "metadata": {},
   "outputs": [
    {
     "data": {
      "text/plain": [
       "<Universe with 20571 atoms>"
      ]
     },
     "execution_count": 27,
     "metadata": {},
     "output_type": "execute_result"
    }
   ],
   "source": [
    "import MDAnalysis as mda\n",
    "\n",
    "# Load into MDA universe\n",
    "u = mda.Universe(f'{protein_directory}/{pdb_id}.pdb')\n",
    "u"
   ]
  },
  {
   "cell_type": "code",
   "execution_count": 32,
   "metadata": {},
   "outputs": [
    {
     "data": {
      "application/vnd.jupyter.widget-view+json": {
       "model_id": "a5125b9fb0464cc9acdb7c8936ec6dc6",
       "version_major": 2,
       "version_minor": 0
      },
      "text/plain": []
     },
     "metadata": {},
     "output_type": "display_data"
    },
    {
     "data": {
      "application/vnd.jupyter.widget-view+json": {
       "model_id": "cba159eedfb145a687ec7ba859b84bd0",
       "version_major": 2,
       "version_minor": 0
      },
      "text/plain": [
       "NGLWidget()"
      ]
     },
     "metadata": {},
     "output_type": "display_data"
    }
   ],
   "source": [
    "import nglview as nv\n",
    "view=nv.show_mdanalysis(u)\n",
    "view\n",
    "## create and show an NGLView from an MDAnalysis universe"
   ]
  },
  {
   "cell_type": "code",
   "execution_count": 38,
   "metadata": {},
   "outputs": [
    {
     "data": {
      "text/plain": [
       "<AtomGroup with 0 atoms>"
      ]
     },
     "execution_count": 38,
     "metadata": {},
     "output_type": "execute_result"
    }
   ],
   "source": [
    "# Select protein atoms\n",
    "protein = u.select_atoms(\"protein\")\n",
    "ligandA = u.select_atoms(\"resname ADP\")\n",
    "water = u.select_atoms('resname HOH')## fill in selection for water.\n",
    "\n",
    "water"
   ]
  },
  {
   "cell_type": "code",
   "execution_count": 40,
   "metadata": {},
   "outputs": [
    {
     "name": "stdout",
     "output_type": "stream",
     "text": [
      "ligandA: 54\n",
      "water: 0\n"
     ]
    }
   ],
   "source": [
    "print(\"ligandA:\", len(ligandA))\n",
    "print(\"water:\", len(water))"
   ]
  },
  {
   "cell_type": "markdown",
   "metadata": {},
   "source": [
    "After selecting parts of our structure, we can add them individually to an NGLView view.\n",
    "In the cell below, we visualize the protein's surface area colored by hydrophobicity.\n",
    "Waters from the crystal structure are in spacefill representation, and we add the ligand in a ball and stick representation."
   ]
  },
  {
   "cell_type": "code",
   "execution_count": 44,
   "metadata": {
    "scrolled": true
   },
   "outputs": [
    {
     "data": {
      "application/vnd.jupyter.widget-view+json": {
       "model_id": "44c0f2592fda4f018afb129e6d577f39",
       "version_major": 2,
       "version_minor": 0
      },
      "text/plain": [
       "NGLWidget()"
      ]
     },
     "metadata": {},
     "output_type": "display_data"
    }
   ],
   "source": [
    "view = nv.show_mdanalysis(protein)\n",
    "view.clear_representations()\n",
    "view.add_representation('surface', ColorScheme=\"hydrophobicity\")\n",
    "lig_viewA = view.add_component(ligandA)\n",
    "lig_viewA.add_representation(\"ball+stick\")\n",
    "\n",
    "view"
   ]
  },
  {
   "cell_type": "markdown",
   "metadata": {},
   "source": [
    "If you rotate this structure so that you are looking at the bottom, you will be able to see our `13U` ligand bound.\n",
    "Upon viewing this structure, you will notice that our ligand seems to appear twice. \n",
    "If you open the PDB file to investigate, you will see the following in the ligand section:\n",
    "\n",
    "```\n",
    "HETATM 1673  C14A13U A 501      18.144  -9.216  12.088  0.61 24.22           C  \n",
    "ANISOU 1673  C14A13U A 501     1755   4793   2654   1752    148   1233       C  \n",
    "HETATM 1674  C14B13U A 501      18.147  -8.840  11.672  0.39 24.46           C  \n",
    "ANISOU 1674  C14B13U A 501     2583   4283   2430   1765    353   1279       C  \n",
    "HETATM 1675  O32A13U A 501      18.209  -8.355  11.186  0.61 24.38           O  \n",
    "ANISOU 1675  O32A13U A 501     2354   5394   1514   2217    238    919       O\n",
    "```\n",
    "\n",
    "This PDB structure provides [**alternate locations**](https://proteopedia.org/wiki/index.php/Alternate_locations) for each ligand atom. \n",
    "These occur when the experimental data supports multiple positions for the same atom.\n",
    "In excerpt above, you will see C14A13U and C14B13U. These are alternate locations of the same atom. \n",
    "Alternate locations can also occur in the protein with some residues.\n",
    "\n",
    "<div class=\"alert alert-block alert-success\">\n",
    "<strong>Selecting alternate locations using MDAnalysis</strong>  \n",
    "    \n",
    "By checking the [documentation page](https://docs.mdanalysis.org/stable/documentation_pages/selections.html) for MDAnalysis selections, we can see that MDAnalysis is prepared for this scenario. We will want to use the `altloc` keyword. This keyword is described as:\n",
    "\n",
    "> altLoc alternative-location\n",
    "\n",
    "> a selection for atoms where alternative locations are available, which is often the case with high-resolution crystal structures e.g. resid 4 and resname ALA and altLoc B selects only the atoms of ALA-4 that have an altLoc B record.\n",
    "\n",
    "If you wanted to use MDAnalysis to select for a particular ligand location, you could use:\n",
    "\n",
    "```python\n",
    "ligand_A = u.select_atoms(\"resname 13U and altLoc A\")\n",
    "ligand_B = u.select_atoms(\"resname 13U and altLoc B\")\n",
    "```\n",
    "</div>\n",
    "\n",
    "To perform a docking calculation, we will have to isolate the protein.\n",
    "This starting structure for our protein contains extra molecules like ligands and water.\n",
    "You will also notice from examining our visualization that our structure does not include hydrogen atoms.\n",
    "If you were to examine the PDB file, you would also see that there are some missing atoms and some of our protein residues have alternate locations marked just like thie ligand.\n",
    "\n",
    "For docking, we will want to remove all of these extra molecules and only keep the protein.\n",
    "We will also want to remove any alternate locations of residues.\n",
    "We will use MDAnalysis to remove these extra molecules and save our starting protein structure as a new file."
   ]
  },
  {
   "cell_type": "code",
   "execution_count": 46,
   "metadata": {},
   "outputs": [
    {
     "name": "stderr",
     "output_type": "stream",
     "text": [
      "C:\\Users\\carlo\\anaconda3\\envs\\vina-env\\lib\\site-packages\\MDAnalysis\\coordinates\\PDB.py:1154: UserWarning: Found no information for attr: 'formalcharges' Using default value of '0'\n",
      "  warnings.warn(\"Found no information for attr: '{}'\"\n"
     ]
    }
   ],
   "source": [
    "# Write protein to new PDB file\n",
    "protein.write(f\"{protein_directory}/protein_{pdb_id}.pdb\")"
   ]
  },
  {
   "cell_type": "markdown",
   "metadata": {},
   "source": [
    "<div class=\"alert alert-block alert-danger\">\n",
    "<strong>Protein Charge</strong>  \n",
    "\n",
    "After saving the protein in the cell above, you may see a warning about information for formal charges not being set in the protein. \n",
    "This warning appears because MDAnalysis did not find specific formal charge data in the PDB file and used a default value instead. \n",
    "This is not a concern for us because we will adjust the protonation states of different residues using PDB2PQR in the next steps. \n",
    "</div>\n"
   ]
  },
  {
   "cell_type": "markdown",
   "metadata": {},
   "source": [
    "## Fixing the protein structure"
   ]
  },
  {
   "cell_type": "markdown",
   "metadata": {},
   "source": [
    "Now that we've isolated our protein, we will want to ensure that we've correctly added hydrogen and fixed any missing atoms.\n",
    "\n",
    "For fixing our protein, we will use a specialized program called PDB2PQR that is made for working with biomolecules like proteins.\n",
    "The advantage of using PDB2PQR is that it will check our protein for missing atoms and multiple occupancy in the protein, and it will pick positions and add missing atoms.\n",
    "\n",
    "<div class=\"alert alert-block alert-success\">\n",
    "<strong>More complicated fixes: PDBFixer</strong>  \n",
    "\n",
    "Another popular software for fixing PDB files is called [PDBFixer](https://github.com/openmm/pdbfixer). PDBFixer is an open-source tool developed by the OpenMM team and is designed to fix common problems in Protein Data Bank (PDB) files before they are used in molecular simulations. It can be used to remove unwanted molecules like water, add missing heavy atoms to incomplete residues, add hydrogen atoms where needed.\n",
    "\n",
    "PDBFixer can be especially useful when there are missing loops or residues. In this workshop, our protein is not missing any residues, but many proteins from the PDB might require more adjustment.\n",
    "\n",
    "To see an example of preparing proteins with PDBFixer, see this [recent YouTube video](https://www.youtube.com/watch?v=pwfKE6wPaMg) posted by the Open Forcefield Initiative. In this video, the presenter first uses PDBFixer, then PDB2PQR to adjust protonation.\n",
    "\n",
    "</div>\n",
    "\n",
    "We will use the command-line interface of this PDB2PQR. This means that you would usually type the command below into your terminal\n",
    "You can run command line commands in the Jupyter notebook by putting a `!` in front of the command. "
   ]
  },
  {
   "cell_type": "code",
   "execution_count": 1,
   "metadata": {},
   "outputs": [
    {
     "name": "stderr",
     "output_type": "stream",
     "text": [
      "INFO:PDB2PQR v3.6.1: biomolecular structure conversion software.\n",
      "INFO:Please cite:  Jurrus E, et al.  Improvements to the APBS biomolecular solvation software suite.  Protein Sci 27 112-128 (2018).\n",
      "INFO:Please cite:  Dolinsky TJ, et al.  PDB2PQR: expanding and upgrading automated preparation of biomolecular structures for molecular simulations. Nucleic Acids Res 35 W522-W525 (2007).\n",
      "INFO:Checking and transforming input arguments.\n",
      "INFO:Loading topology files.\n",
      "INFO:Loading molecule: protein_structures/protein_4hqj.pdb\n",
      "ERROR:Error parsing line: invalid literal for int() with base 10: ''\n",
      "ERROR:<REMARK     2>\n",
      "ERROR:Truncating remaining errors for record type:REMARK\n",
      "WARNING:Warning: protein_structures\\protein_4hqj.pdb is a non-standard PDB file.\n",
      "\n",
      "ERROR:['REMARK']\n",
      "INFO:Setting up molecule.\n",
      "INFO:Created biomolecule object with 2598 residues and 20359 atoms.\n",
      "INFO:Setting termini states for biomolecule chains.\n",
      "INFO:Loading forcefield.\n",
      "INFO:Loading hydrogen topology definitions.\n",
      "WARNING:Missing atom OXT in residue SER E 47\n",
      "WARNING:Missing atom OXT in residue SER G 47\n",
      "WARNING:Missing atom OXT in residue SER E 47\n",
      "WARNING:Missing atom OXT in residue SER G 47\n",
      "INFO:Attempting to repair 2 missing atoms in biomolecule.\n",
      "WARNING:Missing atom OXT in residue SER E 47\n",
      "WARNING:Missing atom OXT in residue SER G 47\n",
      "INFO:Added atom OXT to residue SER E 47 at coordinates -11.562, 121.038, 39.943\n",
      "INFO:Added atom OXT to residue SER G 47 at coordinates 21.888, 22.457, 54.062\n",
      "INFO:Updating disulfide bridges.\n",
      "INFO:Debumping biomolecule.\n",
      "INFO:Adding hydrogens to biomolecule.\n",
      "INFO:Debumping biomolecule (again).\n",
      "INFO:Optimizing hydrogen bonds\n",
      "INFO:Applying force field to biomolecule states.\n",
      "INFO:Regenerating headers.\n",
      "INFO:Regenerating PDB lines.\n",
      "WARNING:Ignoring 392 header lines in output.\n",
      "WARNING:Ignoring 392 header lines in output.\n"
     ]
    }
   ],
   "source": [
    "!python -m pdb2pqr --pdb-output=protein_structures/protein_4hqj.pdb --pH=7.4 protein_structures/protein_4hqj.pdb protein_structures/protein_4hqj.pqr --whitespace"
   ]
  },
  {
   "cell_type": "markdown",
   "metadata": {},
   "source": [
    "## Saving a protein PDBQT File"
   ]
  },
  {
   "cell_type": "markdown",
   "metadata": {},
   "source": [
    "The PDB2PQR program outputs two files, a PDB file and a PQR file. The PDB file is similar to PDB files we have worked with before, except that it contains hydrogens.\n",
    "The PQR file is another molecular file format that is similar to a PDB, but contains information about atomic radii and atomic charges.\n",
    "\n",
    "For use with AutoDock Vina, we need our protein file to be in the \"PDBQT\" format. PDBQT is a specialized file format used by AutoDock Vina and other AutoDock tools. Like the PQR format, the PDBQT format can also contain partial charges. We will load our PQR file and use MDAnalysis to write a PDBQT file.\n",
    "\n",
    "<div class=\"alert alert-block alert-success\">\n",
    "<strong>What information do we need in the PDBQT file?</strong>\n",
    "\n",
    "We'll be using AutoDock Vina with the \"vina\" scoring function (this will be explained in more detail in the next notebook). The vina scoring function doesn't use charges to dock, so we could have also used the PDB file without charges to convert to a PDBQT file. However, some scoring functions do use partial charges.\n",
    "\n",
    "</div>"
   ]
  },
  {
   "cell_type": "code",
   "execution_count": 25,
   "metadata": {},
   "outputs": [
    {
     "name": "stderr",
     "output_type": "stream",
     "text": [
      "C:\\Users\\carlo\\anaconda3\\envs\\vina-env\\lib\\site-packages\\MDAnalysis\\coordinates\\PDBQT.py:305: UserWarning: Supplied AtomGroup was missing the following attributes: altLocs, occupancies, tempfactors. These will be written with default values. \n",
      "  warnings.warn(\n"
     ]
    }
   ],
   "source": [
    "# make a directory for pdb files\n",
    "import os\n",
    "import MDAnalysis as mda\n",
    "pdbqt_directory = \"pbdqt\" ## fill in the name of the directory to write PDBQT files to\n",
    "os.makedirs(pdbqt_directory, exist_ok=True)\n",
    "\n",
    "u = mda.Universe(f\"{protein_directory}/protein_{pdb_id}.pqr\")\n",
    "u.atoms.write(f\"{pdbqt_directory}/{pdb_id}.pdbqt\")"
   ]
  },
  {
   "cell_type": "markdown",
   "metadata": {},
   "source": [
    "The PDBQT file generated by MDAnalysis includes two lines at the start of the structure that AutoDock Vina doesn't accept. \n",
    "These lines start with \"TITLE\" and \"CRYST1\". To resolve this, the following cell replaces these lines with \"REMARK\", which is acceptable to AutoDock Vina.\n",
    "\n",
    "You might have also just chosen to use a different software to write your PDBQT. \n",
    "[OpenBabel](https://openbabel.org/index.html) is a popular choice. However, we are using MDAnalysis here for consistency with the rest of the workshop and to limit the number of libraries we are using."
   ]
  },
  {
   "cell_type": "code",
   "execution_count": 27,
   "metadata": {},
   "outputs": [],
   "source": [
    "# Read in the just-written PDBQT file, replace text, and write back\n",
    "with open(f\"{pdbqt_directory}/{pdb_id}.pdbqt\", 'r') as file:\n",
    "    file_content = file.read()\n",
    "\n",
    "# Replace 'TITLE' and 'CRYST1' with 'REMARK'\n",
    "file_content = file_content.replace('TITLE', 'REMARK').replace('CRYST1', 'REMARK')\n",
    "\n",
    "# Write the modified content back to the file\n",
    "with open(f\"{pdbqt_directory}/{pdb_id}.pdbqt\", 'w') as file:\n",
    "    file.write(file_content)"
   ]
  },
  {
   "cell_type": "markdown",
   "metadata": {},
   "source": [
    "## Ligand Preparation\n",
    "\n",
    "When preparing small molecule PDBQT files, you could have also chosen to use MDAnalysis or other tools.\n",
    "However, we are going to use a special program for small molecules and docking called [meeko](https://github.com/forlilab/Meeko).\n",
    "We choose to use meeko for our ligands because it will allow us to more easily visualize our results later.\n",
    "Note that when using meeko, ligands should have hydrogens added already.\n",
    "\n",
    "We are using the command line for meeko, similar to PDB2PQR. \n",
    "You could also choose to use the Python API for this, but the command line is simpler for common tasks like converting an SDF to a PDBQT.\n",
    "\n",
    "In the cell below, we execute a command that converts our ligands that in we prepared in the `molecule_manipulation` notebook to a PDBQT file."
   ]
  },
  {
   "cell_type": "code",
   "execution_count": 31,
   "metadata": {},
   "outputs": [],
   "source": [
    "# Use meeko to prepare small molecules - using meeko helps us visualize them later.\n",
    "! mk_prepare_ligand.py -i ligands/resADP.sdf -o pdbqt/resADP.pdbqt"
   ]
  },
  {
   "cell_type": "code",
   "execution_count": null,
   "metadata": {},
   "outputs": [],
   "source": [
    "## python prepare_ligand4.py -l resBUF.pdb -o resBUF.pdbqt -v desde Lib site packages\n"
   ]
  }
 ],
 "metadata": {
  "kernelspec": {
   "display_name": "Python [conda env:vina-env]",
   "language": "python",
   "name": "conda-env-vina-env-py"
  },
  "language_info": {
   "codemirror_mode": {
    "name": "ipython",
    "version": 3
   },
   "file_extension": ".py",
   "mimetype": "text/x-python",
   "name": "python",
   "nbconvert_exporter": "python",
   "pygments_lexer": "ipython3",
   "version": "3.10.18"
  }
 },
 "nbformat": 4,
 "nbformat_minor": 4
}
