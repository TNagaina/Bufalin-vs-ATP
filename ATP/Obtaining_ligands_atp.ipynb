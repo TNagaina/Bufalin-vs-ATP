{
 "cells": [
  {
   "cell_type": "code",
   "execution_count": null,
   "id": "bbd9f287-04f5-4628-b543-42a2d5bf83ab",
   "metadata": {},
   "outputs": [],
   "source": [
    "# This is a condensated version from the pdb training course Python Scripting for Molecular Docking | Part 3.\n",
    "# I have taken the necessary code as to obtain the ligands for the Na/Kaptase (7.2.2.13) I want to study (A"
   ]
  },
  {
   "cell_type": "code",
   "execution_count": 3,
   "id": "6af895d5-3f85-40d6-a41d-d514b328833d",
   "metadata": {},
   "outputs": [
    {
     "name": "stdout",
     "output_type": "stream",
     "text": [
      "C:\\Users\\carlo\\anaconda3\\python.exe\n"
     ]
    }
   ],
   "source": [
    "import sys\n",
    "print(sys.executable)"
   ]
  },
  {
   "cell_type": "code",
   "execution_count": 5,
   "id": "7f7f7135",
   "metadata": {},
   "outputs": [
    {
     "name": "stderr",
     "output_type": "stream",
     "text": [
      "C:\\Users\\carlo\\AppData\\Local\\Temp\\ipykernel_18860\\3994433089.py:2: DeprecationWarning: Please migrate to the use of our new and improved package, rcsb-api (https://rcsbapi.readthedocs.io/en/latest/),\n",
      "    which contains all the same functionalities as rcsbsearchapi and more! New features will only be added to the new rcsb-api package.\n",
      "    For more details, see https://github.com/rcsb/py-rcsbsearchapi/issues/51.\n",
      "  from rcsbsearchapi import rcsb_attributes as attrs\n"
     ]
    }
   ],
   "source": [
    "# Import the components of rcsbsearchapi needed for this search\n",
    "from rcsbsearchapi import rcsb_attributes as attrs"
   ]
  },
  {
   "cell_type": "code",
   "execution_count": 6,
   "id": "e331ecd9",
   "metadata": {},
   "outputs": [
    {
     "name": "stdout",
     "output_type": "stream",
     "text": [
      "['1MO8', '3B8E', '3KDP', '3N23', '3WGU', '3WGV', '4HQJ', '4HYT', '4RES', '4RET']\n",
      "There are 38 NaKapts structures that contain ligands in the RCSB PDB.\n"
     ]
    }
   ],
   "source": [
    "# There will be three components to the query, which will be labeled q1, q2 and q3.\n",
    "\n",
    "ECnumber = '7.2.2.13'     # We will use this variable again later\n",
    "\n",
    "q1 = attrs.rcsb_polymer_entity.rcsb_ec_lineage.id == ECnumber    # looking for trypsin structures with EC = 3.4.21.4\n",
    "q2 = attrs.chem_comp.formula_weight >= 300                       # setting the lower limit for molecular weight\n",
    "q3 = attrs.chem_comp.formula_weight <= 800                       # setting the upper limit for molecular weight\n",
    "\n",
    "query = q1 & q2 & q3              # combining the three queries into one\n",
    "\n",
    "resultL = list(query())           # assign the results of the query to a list variable\n",
    "\n",
    "print(resultL[0:10])              # list the first 10 results\n",
    "\n",
    "print(\"There are\", len(resultL), \"NaKapts structures that contain ligands in the RCSB PDB.\")"
   ]
  },
  {
   "cell_type": "code",
   "execution_count": 8,
   "id": "b4d77b9e",
   "metadata": {},
   "outputs": [
    {
     "name": "stdout",
     "output_type": "stream",
     "text": [
      "There are 22 ligands for EC Number 7.2.2.13 in this list. Here is a list of the first 10 ligands.\n"
     ]
    },
    {
     "data": {
      "text/plain": [
       "['17F', '1AT', '1DS', '7Q2', 'ACP', 'ADP', 'AGS', 'ATP', 'BUF', 'CE1']"
      ]
     },
     "execution_count": 8,
     "metadata": {},
     "output_type": "execute_result"
    }
   ],
   "source": [
    "molResultL = list(query(\"mol_definition\"))\n",
    "print(\"There are\",len(molResultL), \"ligands for EC Number\", ECnumber, \"in this list. Here is a list of the first 10 ligands.\")\n",
    "molResultL[0:10]"
   ]
  },
  {
   "cell_type": "code",
   "execution_count": 9,
   "id": "ffb3d082",
   "metadata": {},
   "outputs": [],
   "source": [
    "import requests  # to enable us to pull files from the PDB"
   ]
  },
  {
   "cell_type": "code",
   "execution_count": 15,
   "id": "9cbf3513",
   "metadata": {},
   "outputs": [],
   "source": [
    "# Download one of the files from our list: 11U.mol2\n",
    "resADP_sdf = requests.get('https://files.rcsb.org/ligands/download/ADP_ideal.sdf')"
   ]
  },
  {
   "cell_type": "code",
   "execution_count": 16,
   "id": "c9925312-8ea5-4b29-9df4-9d33b791784e",
   "metadata": {},
   "outputs": [
    {
     "data": {
      "text/plain": [
       "<Response [200]>"
      ]
     },
     "execution_count": 16,
     "metadata": {},
     "output_type": "execute_result"
    }
   ],
   "source": [
    "resADP_sdf"
   ]
  },
  {
   "cell_type": "code",
   "execution_count": 19,
   "id": "096a56da",
   "metadata": {},
   "outputs": [],
   "source": [
    "# To really be sure, let's look at the file one line at a time. First we write the downloaded content to a file.\n",
    "import os\n",
    "\n",
    "os.makedirs(('ligands'), exist_ok=True)\n",
    "\n",
    "with open(\"ligands/resADP.sdf\", \"w+\") as file:\n",
    "    file.write(resADP_sdf.text)"
   ]
  },
  {
   "cell_type": "code",
   "execution_count": 25,
   "id": "c9d9c2e4",
   "metadata": {},
   "outputs": [
    {
     "name": "stdout",
     "output_type": "stream",
     "text": [
      "ADP\n",
      "  CCTOOLS-0131251006\n",
      "\n",
      " 42 44  0  0  1  0  0  0  0  0999 V2000\n",
      "    1.1620   -0.2210   -5.6850 P   0  0  0  0  0\n",
      "    1.7250    1.1330   -5.4920 O   0  0  0  0  0\n",
      "    2.1900   -1.1120   -6.5460 O   0  0  0  0  0\n",
      "   -0.2400   -0.1130   -6.4670 O   0  0  0  0  0\n",
      "   -0.1050    0.0250   -3.4460 P   0  0  0  0  0\n",
      "    0.4760    1.3760   -3.2880 O   0  0  0  0  0\n",
      "   -1.4870    0.1290   -4.2660 O   0  0  0  0  0\n",
      "    0.9250   -0.9130   -4.2500 O   0  0  0  0  0\n",
      "   -0.3890   -0.6090   -1.9940 O   0  0  0  0  0\n",
      "   -1.3070    0.2640   -1.3330 C   0  0  0  0  0\n",
      "   -1.6200   -0.2840    0.0590 C   0  0  0  0  0\n",
      "   -0.4170   -0.3480    0.8570 O   0  0  0  0  0\n",
      "   -2.5500    0.6830    0.8250 C   0  0  0  0  0\n",
      "   -3.9070    0.2450    0.7390 O   0  0  0  0  0\n",
      "   -2.0470    0.6110    2.2860 C   0  0  0  0  0\n",
      "   -3.0800    0.1290    3.1480 O   0  0  0  0  0\n",
      "   -0.8710   -0.3880    2.2270 C   0  0  0  0  0\n",
      "    0.2010    0.0310    3.1320 N   0  0  0  0  0\n",
      "    1.2310    0.8700    2.8270 C   0  0  0  0  0\n",
      "    2.0000    1.0270    3.8650 N   0  0  0  0  0\n",
      "    1.5090    0.3050    4.9020 C   0  0  0  0  0\n",
      "    1.9100    0.0870    6.2310 C   0  0  0  0  0\n",
      "    3.0440    0.6970    6.7380 N   0  0  0  0  0\n",
      "    1.1710   -0.7140    6.9910 N   0  0  0  0  0\n",
      "    0.0880   -1.3000    6.5160 C   0  0  0  0  0\n",
      "   -0.3210   -1.1300    5.2770 N   0  0  0  0  0\n",
      "    0.3530   -0.3460    4.4420 C   0  0  0  0  0\n",
      "    2.3040   -0.6640   -7.3960 H   0  0  0  0  0\n",
      "   -0.5720   -1.0160   -6.5710 H   0  0  0  0  0\n",
      "   -1.8330   -0.7700   -4.3460 H   0  0  0  0  0\n",
      "   -2.2270    0.3300   -1.9130 H   0  0  0  0  0\n",
      "   -0.8620    1.2550   -1.2420 H   0  0  0  0  0\n",
      "   -2.0780   -1.2700   -0.0150 H   0  0  0  0  0\n",
      "   -2.4510    1.6960    0.4350 H   0  0  0  0  0\n",
      "   -4.4390    0.8840    1.2330 H   0  0  0  0  0\n",
      "   -1.6990    1.5890    2.6180 H   0  0  0  0  0\n",
      "   -3.8070    0.7640    3.0940 H   0  0  0  0  0\n",
      "   -1.2120   -1.3910    2.4850 H   0  0  0  0  0\n",
      "    1.3870    1.3350    1.8650 H   0  0  0  0  0\n",
      "    3.3080    0.5420    7.6580 H   0  0  0  0  0\n",
      "    3.5770    1.2770    6.1720 H   0  0  0  0  0\n",
      "   -0.4820   -1.9440    7.1690 H   0  0  0  0  0\n",
      "  1  2  2  0  0  0\n",
      "  1  3  1  0  0  0\n",
      "  1  4  1  0  0  0\n",
      "  1  8  1  0  0  0\n",
      "  3 28  1  0  0  0\n",
      "  4 29  1  0  0  0\n",
      "  5  6  2  0  0  0\n",
      "  5  7  1  0  0  0\n",
      "  5  8  1  0  0  0\n",
      "  5  9  1  0  0  0\n",
      "  7 30  1  0  0  0\n",
      "  9 10  1  0  0  0\n",
      " 10 11  1  0  0  0\n",
      " 10 31  1  0  0  0\n",
      " 10 32  1  0  0  0\n",
      " 11 12  1  0  0  0\n",
      " 11 13  1  0  0  0\n",
      " 11 33  1  0  0  0\n",
      " 12 17  1  0  0  0\n",
      " 13 14  1  0  0  0\n",
      " 13 15  1  0  0  0\n",
      " 13 34  1  0  0  0\n",
      " 14 35  1  0  0  0\n",
      " 15 16  1  0  0  0\n",
      " 15 17  1  0  0  0\n",
      " 15 36  1  0  0  0\n",
      " 16 37  1  0  0  0\n",
      " 17 18  1  0  0  0\n",
      " 17 38  1  0  0  0\n",
      " 18 19  1  0  0  0\n",
      " 18 27  1  0  0  0\n",
      " 19 20  2  0  0  0\n",
      " 19 39  1  0  0  0\n",
      " 20 21  1  0  0  0\n",
      " 21 22  1  0  0  0\n",
      " 21 27  2  0  0  0\n",
      " 22 23  1  0  0  0\n",
      " 22 24  2  0  0  0\n",
      " 23 40  1  0  0  0\n",
      " 23 41  1  0  0  0\n",
      " 24 25  1  0  0  0\n",
      " 25 26  2  0  0  0\n",
      " 25 42  1  0  0  0\n",
      " 26 27  1  0  0  0\n",
      "M  END\n",
      "$$$$\n",
      "\n"
     ]
    }
   ],
   "source": [
    "# Now we use these commands to read the file and make sure it downloaded properly. As an alternative, we\n",
    "# could go to the ligands folder in our Jupyter desktop and click on res11U.mol2 to make sure it looks correct.\n",
    "\n",
    "file1 = open('ligands/resADP.sdf', 'r')\n",
    "file_text = file1.read() # This reads in the file as a string.\n",
    "\n",
    "print(file_text)"
   ]
  },
  {
   "cell_type": "code",
   "execution_count": null,
   "id": "d94c9067",
   "metadata": {},
   "outputs": [],
   "source": []
  }
 ],
 "metadata": {
  "kernelspec": {
   "display_name": "Python [conda env:base] *",
   "language": "python",
   "name": "conda-base-py"
  },
  "language_info": {
   "codemirror_mode": {
    "name": "ipython",
    "version": 3
   },
   "file_extension": ".py",
   "mimetype": "text/x-python",
   "name": "python",
   "nbconvert_exporter": "python",
   "pygments_lexer": "ipython3",
   "version": "3.12.3"
  }
 },
 "nbformat": 4,
 "nbformat_minor": 5
}
